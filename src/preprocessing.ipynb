{
 "cells": [
  {
   "attachments": {},
   "cell_type": "markdown",
   "metadata": {},
   "source": [
    "# Preprocessing of Ruddit dataset\n",
    "This notebook is used for preprocessing of the [Ruddit](https://github.com/hadarishav/Ruddit) dataset. The dataset is a collection of Reddit comments, which are annotated for offensiveness. Since the original repository for Ruddit dataset only contains the ID of the posts and comments, the [Ruddit dataset shared in Kaggle](https://www.kaggle.com/datasets/rajkumarl/ruddit-jigsaw-dataset) with the texts already extracted from Reddit was used in this notebook. For running this notebook, please first create the `data` directory inside the `src` folder (same directory that contains this notebook file), then download the dataset from Kaggle and place the `ruddit` directory it in the `data/` directory.\n",
    "\n",
    "After running this notebook, the preprocessed csv files for train, test and validation splits will be saved in the `data/ruddit/Preprocessed` directory."
   ]
  },
  {
   "cell_type": "code",
   "execution_count": null,
   "metadata": {},
   "outputs": [],
   "source": [
    "import os\n",
    "import random\n",
    "\n",
    "import pandas as pd\n",
    "import matplotlib.pyplot as plt\n",
    "import seaborn as sns\n",
    "from sklearn.model_selection import train_test_split\n",
    "\n",
    "# Set matplotlib dpi to 300\n",
    "plt.rcParams['figure.dpi'] = 300"
   ]
  },
  {
   "cell_type": "code",
   "execution_count": null,
   "metadata": {},
   "outputs": [],
   "source": [
    "RUDDIT_PATH = \"data/ruddit/Dataset/ruddit_with_text.csv\""
   ]
  },
  {
   "cell_type": "code",
   "execution_count": null,
   "metadata": {},
   "outputs": [],
   "source": [
    "df = pd.read_csv(RUDDIT_PATH)\n",
    "\n",
    "df.info()"
   ]
  },
  {
   "attachments": {},
   "cell_type": "markdown",
   "metadata": {},
   "source": [
    "# Delete rows with txt == '[deleted]'"
   ]
  },
  {
   "cell_type": "code",
   "execution_count": null,
   "metadata": {},
   "outputs": [],
   "source": [
    "# Drop url column\n",
    "columns_to_drop = [\"url\", \"comment_id\", \"post_id\"]\n",
    "df.drop(columns=columns_to_drop, axis=1, inplace=True)\n",
    "# Rename txt column to text\n",
    "df = df.rename(columns={'txt': 'text'})\n",
    "# Show number of deleted posts\n",
    "deleted = df[\"text\"] == '[deleted]'\n",
    "print(\"Deleted posts: \", len(df[deleted]))\n",
    "# Drop rows with deleted text\n",
    "df = df[~deleted]"
   ]
  },
  {
   "attachments": {},
   "cell_type": "markdown",
   "metadata": {},
   "source": [
    "# Normalize the Offensiveness Score"
   ]
  },
  {
   "cell_type": "code",
   "execution_count": null,
   "metadata": {},
   "outputs": [],
   "source": [
    "df[\"labels\"] = (df[\"offensiveness_score\"].values + 1.) / 2.\n",
    "df.drop(\"offensiveness_score\", axis=1, inplace=True)\n",
    "\n",
    "print(\"Offensive Score:\")\n",
    "print(f\"Mean: {df['labels'].mean()}\")\n",
    "print(f\"Std: {df['labels'].std()}\")\n",
    "print(f\"Min: {df['labels'].min()}\")\n",
    "print(f\"Max: {df['labels'].max()}\")"
   ]
  },
  {
   "attachments": {},
   "cell_type": "markdown",
   "metadata": {},
   "source": [
    "# Plotting the Distribution of the Offensive Score"
   ]
  },
  {
   "cell_type": "code",
   "execution_count": null,
   "metadata": {},
   "outputs": [],
   "source": [
    "# Plot the distribution of the offensive score\n",
    "sns.kdeplot(df['labels'], fill=True)\n",
    "plt.title(\"Distribution of Offensive Score\")\n",
    "plt.xlabel(\"Offensive Score\")\n",
    "plt.ylabel(\"Count\")\n",
    "plt.show()"
   ]
  },
  {
   "attachments": {},
   "cell_type": "markdown",
   "metadata": {},
   "source": [
    "# Split the data into train, validation and test sets"
   ]
  },
  {
   "cell_type": "code",
   "execution_count": null,
   "metadata": {},
   "outputs": [],
   "source": [
    "train_df, val_test_df = train_test_split(df, test_size=0.4, random_state=42)\n",
    "val_df, test_df = train_test_split(val_test_df, test_size=0.5, random_state=42)\n",
    "\n",
    "train_df.to_csv(\"data/ruddit/Preprocessed/train.csv\", index=False)\n",
    "val_df.to_csv(\"data/ruddit/Preprocessed/val.csv\", index=False)\n",
    "test_df.to_csv(\"data/ruddit/Preprocessed/test.csv\", index=False)"
   ]
  },
  {
   "attachments": {},
   "cell_type": "markdown",
   "metadata": {},
   "source": [
    "# Plot the data distribution of the train, validation and test sets"
   ]
  },
  {
   "cell_type": "code",
   "execution_count": null,
   "metadata": {},
   "outputs": [],
   "source": [
    "sns.kdeplot(train_df[\"labels\"], label=\"Train Set\")\n",
    "sns.kdeplot(val_df[\"labels\"], label=\"Validation Set\")\n",
    "sns.kdeplot(test_df[\"labels\"], label=\"Test Set\")\n",
    "plt.title(\"Distribution of Offensive Score\")\n",
    "plt.xlabel(\"Offensive Score\")\n",
    "plt.ylabel(\"Count\")\n",
    "plt.legend()\n",
    "plt.show()"
   ]
  },
  {
   "attachments": {},
   "cell_type": "markdown",
   "metadata": {},
   "source": [
    "# Create Pairs"
   ]
  },
  {
   "cell_type": "code",
   "execution_count": null,
   "metadata": {},
   "outputs": [],
   "source": [
    "def create_sentence_pairs(df, n=5):\n",
    "    # Create a list to store the results\n",
    "    data = []\n",
    "\n",
    "    # Iterate over each row in the original dataframe\n",
    "    for index, row in df.iterrows():\n",
    "        text1 = row['text']\n",
    "        label1 = row['labels']\n",
    "        \n",
    "        # Randomly select n other rows from the original dataframe, excluding the current row\n",
    "        random_rows = df.drop(index).sample(n=n)\n",
    "        \n",
    "        for _, random_row in random_rows.iterrows():\n",
    "            text2 = random_row['text']\n",
    "            label2 = random_row['labels']\n",
    "            \n",
    "            # Determine bin_label based on which text has a higher positivity score\n",
    "            if label1 > label2:\n",
    "                bin_label = 0\n",
    "            else:\n",
    "                bin_label = 1\n",
    "            \n",
    "            # Calculate the difference in labels\n",
    "            # dif_label = label1 - label2\n",
    "            \n",
    "            # Append the new row to the list of data\n",
    "            data.append({'text1': text1, 'text2': text2, 'labels': bin_label})\n",
    "\n",
    "    # Create a new dataframe from the list of data\n",
    "    new_df = pd.DataFrame(data)\n",
    "    \n",
    "    return new_df\n"
   ]
  },
  {
   "attachments": {},
   "cell_type": "markdown",
   "metadata": {},
   "source": [
    "# Save the train, validation, and test sets to csv files"
   ]
  },
  {
   "cell_type": "code",
   "execution_count": null,
   "metadata": {},
   "outputs": [],
   "source": [
    "train_pair_df, val_pair_df, test_pair_df = create_sentence_pairs(train_df), create_sentence_pairs(val_df), create_sentence_pairs(test_df)\n",
    "\n",
    "\n",
    "# Print the count of bin_label in each dataframe\n",
    "print(\"Train Set:\")\n",
    "print(train_pair_df['labels'].value_counts())\n",
    "print(\"Validation Set:\")\n",
    "print(val_pair_df['labels'].value_counts())\n",
    "print(\"Test Set:\")\n",
    "print(test_pair_df['labels'].value_counts())\n",
    "\n",
    "# Create Preprocessed folder in data/ruddit directory if it does not exist\n",
    "if not os.path.exists(\"data/ruddit/Preprocessed\"):\n",
    "    os.makedirs(\"data/ruddit/Preprocessed\")\n",
    "\n",
    "\n",
    "# Save the dataframes to csv files\n",
    "train_pair_df.to_csv(\"data/ruddit/Preprocessed/train_pair.csv\", index=False)\n",
    "val_pair_df.to_csv(\"data/ruddit/Preprocessed/val_pair.csv\", index=False)\n",
    "test_pair_df.to_csv(\"data/ruddit/Preprocessed/test_pair.csv\", index=False)"
   ]
  },
  {
   "attachments": {},
   "cell_type": "markdown",
   "metadata": {},
   "source": [
    "# Transform Kaggle's Validation data"
   ]
  },
  {
   "cell_type": "code",
   "execution_count": null,
   "metadata": {},
   "outputs": [],
   "source": [
    "kaggle_val_df = pd.read_csv(\"data/kaggle_competition/validation_data.csv\")"
   ]
  },
  {
   "cell_type": "code",
   "execution_count": null,
   "metadata": {},
   "outputs": [],
   "source": [
    "# drop worker column and rename less_toxic to text1 and more_toxic to text2\n",
    "kaggle_val_df.drop(\"worker\", axis=1, inplace=True)\n",
    "kaggle_val_df = kaggle_val_df.rename(columns={'less_toxic': 'text1', 'more_toxic': 'text2'})\n",
    "\n",
    "# Create a new column labels and set the value for all rows to 1\n",
    "kaggle_val_df['labels'] = 1\n",
    "\n",
    "# Swap value of text1 and text2 in each row with a 50% chance, to make the data more balanced\n",
    "# if the value is changing, the labels will be changed to 0\n",
    "for index, row in kaggle_val_df.iterrows():\n",
    "    if random.random() < 0.5:\n",
    "        text1 = row['text1']\n",
    "        text2 = row['text2']\n",
    "        kaggle_val_df.at[index, 'text1'] = text2\n",
    "        kaggle_val_df.at[index, 'text2'] = text1\n",
    "        kaggle_val_df.at[index, 'labels'] = 0\n",
    "\n",
    "# Create Preprocessed folder in data/kaggle_competition directory if it does not exist\n",
    "if not os.path.exists(\"data/kaggle_competition/Preprocessed\"):\n",
    "    os.makedirs(\"data/kaggle_competition/Preprocessed\")\n",
    "\n",
    "# Save the dataframe to csv file\n",
    "kaggle_val_df.to_csv(\"data/kaggle_competition/Preprocessed/kaggle_val_pair.csv\", index=False)\n",
    "\n",
    "# Create a new dataframe with one column: text each row of the original dataframe\n",
    "# is converted to two rows in the new dataframe, first row text is text1, second\n",
    "# row text is text2\n",
    "def create_sentence_pairs(df):\n",
    "    # Create a list to store the results\n",
    "    data = []\n",
    "\n",
    "    # Iterate over each row in the original dataframe\n",
    "    for index, row in df.iterrows():\n",
    "        text1 = row['text1']\n",
    "        text2 = row['text2']\n",
    "        \n",
    "        # Append the new row to the list of data\n",
    "        data.append({'text': text1})\n",
    "        data.append({'text': text2})\n",
    "\n",
    "    # Create a new dataframe from the list of data\n",
    "    new_df = pd.DataFrame(data)\n",
    "    \n",
    "    return new_df\n",
    "\n",
    "kaggle_val_seq_df = create_sentence_pairs(kaggle_val_df)\n",
    "\n",
    "# save the dataframe to csv file\n",
    "kaggle_val_seq_df.to_csv(\"data/kaggle_competition/Preprocessed/kaggle_val_seq.csv\", index=False)"
   ]
  }
 ],
 "metadata": {
  "kernelspec": {
   "display_name": "Python 3 (ipykernel)",
   "language": "python",
   "name": "python3"
  },
  "language_info": {
   "codemirror_mode": {
    "name": "ipython",
    "version": 3
   },
   "file_extension": ".py",
   "mimetype": "text/x-python",
   "name": "python",
   "nbconvert_exporter": "python",
   "pygments_lexer": "ipython3",
   "version": "3.11.2"
  }
 },
 "nbformat": 4,
 "nbformat_minor": 4
}
